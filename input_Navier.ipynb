{
 "cells": [
  {
   "cell_type": "code",
   "execution_count": null,
   "id": "0dbb8f65",
   "metadata": {},
   "outputs": [],
   "source": [
    "from abc import abstractmethod\n",
    "from test import test_code"
   ]
  },
  {
   "cell_type": "code",
   "execution_count": 1,
   "id": "bfe9d045",
   "metadata": {},
   "outputs": [],
   "source": [
    "class Navier_stokes_variables():\n",
    "    def __init__():\n",
    "        pass\n",
    "    \n",
    "\n",
    "    #he following function decides variables like element length, domain size,\n",
    "    #time_step_length etc. When 'input_variables(N='TRUE')', we get default values,\n",
    "    #on the contrary when N = 'False' we get to define our own parameters\n",
    "    def input_variables(NX, NY, DOMAIN_SIZE_X, N_ITERATIONS, N_PRESSURE_POISSON_ITERATIONS, TIME_STEP_LENGTH, STABILITY_SAFETY_FACTOR, KINEMATIC_VISCOSITY, DENSITY):\n",
    "        \n",
    "        \n",
    "        DOMAIN_SIZE_Y = 0.5 * float(DOMAIN_SIZE_X)\n",
    "        \n",
    "        input_return_list = [NX, NY, DOMAIN_SIZE_X, DOMAIN_SIZE_Y, N_ITERATIONS, N_PRESSURE_POISSON_ITERATIONS, TIME_STEP_LENGTH, STABILITY_SAFETY_FACTOR, KINEMATIC_VISCOSITY, DENSITY]\n",
    "        test_code.test_input(input_return_list)\n",
    "\n",
    "        \n",
    "        return input_return_list\n",
    "        \n",
    "            "
   ]
  },
  {
   "cell_type": "code",
   "execution_count": null,
   "id": "fa771768",
   "metadata": {},
   "outputs": [],
   "source": []
  },
  {
   "cell_type": "code",
   "execution_count": null,
   "id": "59a830c3",
   "metadata": {},
   "outputs": [],
   "source": []
  },
  {
   "cell_type": "code",
   "execution_count": null,
   "id": "7d589e08",
   "metadata": {},
   "outputs": [],
   "source": []
  }
 ],
 "metadata": {
  "kernelspec": {
   "display_name": "Python 3 (ipykernel)",
   "language": "python",
   "name": "python3"
  },
  "language_info": {
   "codemirror_mode": {
    "name": "ipython",
    "version": 3
   },
   "file_extension": ".py",
   "mimetype": "text/x-python",
   "name": "python",
   "nbconvert_exporter": "python",
   "pygments_lexer": "ipython3",
   "version": "3.9.12"
  }
 },
 "nbformat": 4,
 "nbformat_minor": 5
}

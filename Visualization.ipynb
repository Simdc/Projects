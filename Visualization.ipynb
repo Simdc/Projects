{
 "cells": [
  {
   "cell_type": "code",
   "execution_count": 1,
   "id": "f75217b9",
   "metadata": {},
   "outputs": [],
   "source": [
    "from matplotlib import pyplot as plt\n",
    "import numpy as np"
   ]
  },
  {
   "cell_type": "code",
   "execution_count": 2,
   "id": "64906da9",
   "metadata": {},
   "outputs": [],
   "source": [
    "class Visual():\n",
    "    \n",
    "    def __init__():\n",
    "        pass\n",
    "    \n",
    "    def visualize_vector_plot(X, Y, u_next, v_next, streamplot):\n",
    "        \n",
    "        #------------------------------------------------#\n",
    "        #plt.figure()\n",
    "        plt.xlim((0, 1))\n",
    "        plt.ylim((0, 0.5))\n",
    "        #------------------------------------------------#\n",
    "    \n",
    "        if streamplot == True: \n",
    "            z1 = plt.streamplot(X[::2, ::2], Y[::2, ::2], u_next[::2, ::2], v_next[::2, ::2], color=\"black\")\n",
    "        else:\n",
    "            z1 = plt.quiver(X[::2, ::2], Y[::2, ::2], u_next[::2, ::2], v_next[::2, ::2], color=\"black\")\n",
    "    \n",
    "   \n",
    "        #plt.show()\n",
    "    \n",
    "        return z1\n",
    "    \n",
    "    def visualize_contour_plot(X, Y, u_next, ticks):\n",
    "    \n",
    "        #------------------------------------------------#\n",
    "        #plt.figure()\n",
    "        plt.xlim((0, 1))\n",
    "        plt.ylim((0, 0.5))\n",
    "        #------------------------------------------------#\n",
    "        plt.contourf(X[::2, ::2], Y[::2, ::2], u_next[::2, ::2], cmap=\"plasma\")\n",
    "        plt.colorbar(ticks=np.linspace(-50, 50, 20))\n",
    "        #------------------------------------------------#\n",
    "        \n",
    "        return None\n",
    "    \n",
    "    def visualize_error_plot(Spin_up,N_ITERATIONS):\n",
    "        \n",
    "        Spin_up = np.array(Spin_up)\n",
    "        np.shape(Spin_up)\n",
    "        \n",
    "        plt.ylabel('Error')\n",
    "        plt.xlabel('Timesteps')\n",
    "        plt.plot(np.linspace(0,1,N_ITERATIONS),Spin_up)\n",
    "        plt.show()\n",
    "        \n",
    "        return None\n",
    "    "
   ]
  },
  {
   "cell_type": "code",
   "execution_count": null,
   "id": "6c514411",
   "metadata": {},
   "outputs": [],
   "source": []
  }
 ],
 "metadata": {
  "kernelspec": {
   "display_name": "Python 3 (ipykernel)",
   "language": "python",
   "name": "python3"
  },
  "language_info": {
   "codemirror_mode": {
    "name": "ipython",
    "version": 3
   },
   "file_extension": ".py",
   "mimetype": "text/x-python",
   "name": "python",
   "nbconvert_exporter": "python",
   "pygments_lexer": "ipython3",
   "version": "3.9.12"
  }
 },
 "nbformat": 4,
 "nbformat_minor": 5
}

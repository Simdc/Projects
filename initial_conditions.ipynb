{
 "cells": [
  {
   "cell_type": "code",
   "execution_count": 2,
   "id": "52e4532b",
   "metadata": {},
   "outputs": [],
   "source": [
    "import numpy as np"
   ]
  },
  {
   "cell_type": "code",
   "execution_count": 3,
   "id": "dbb50624",
   "metadata": {},
   "outputs": [],
   "source": [
    "class initial_condition():\n",
    "    def __init__(self):\n",
    "        pass\n",
    "    \n",
    "    def matrix_initialization(NX, NY, zero_initialization = True, intial_value = 0):\n",
    "        \n",
    "        if zero_initialization == True:\n",
    "            \n",
    "            m_prev = np.zeros([NX,NY], dtype = np.float64)\n",
    "           \n",
    "            \n",
    "        else:\n",
    "            m_prev = np.full([NX,NY],  intial_value,dtype = np.float64)\n",
    "            \n",
    "        m_tent = np.zeros([NX,NY], dtype = np.float64)\n",
    "        m_next = np.zeros([NX,NY], dtype = np.float64)\n",
    "           \n",
    "            \n",
    "            \n",
    "        \n",
    "        return [m_prev, m_tent, m_next]"
   ]
  },
  {
   "cell_type": "code",
   "execution_count": null,
   "id": "83436eb2",
   "metadata": {},
   "outputs": [],
   "source": []
  }
 ],
 "metadata": {
  "kernelspec": {
   "display_name": "Python 3 (ipykernel)",
   "language": "python",
   "name": "python3"
  },
  "language_info": {
   "codemirror_mode": {
    "name": "ipython",
    "version": 3
   },
   "file_extension": ".py",
   "mimetype": "text/x-python",
   "name": "python",
   "nbconvert_exporter": "python",
   "pygments_lexer": "ipython3",
   "version": "3.9.12"
  }
 },
 "nbformat": 4,
 "nbformat_minor": 5
}

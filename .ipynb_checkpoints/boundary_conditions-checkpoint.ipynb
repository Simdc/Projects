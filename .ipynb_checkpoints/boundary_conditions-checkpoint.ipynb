{
 "cells": [
  {
   "cell_type": "code",
   "execution_count": 1,
   "id": "dcaf256f",
   "metadata": {},
   "outputs": [],
   "source": [
    "import numpy as np\n",
    "import matplotlib.pyplot as plt\n",
    "import cmasher "
   ]
  },
  {
   "cell_type": "code",
   "execution_count": 6,
   "id": "06ed0fa6",
   "metadata": {},
   "outputs": [],
   "source": [
    "class boundary_update():\n",
    "    def __init__(self):\n",
    "        pass\n",
    "    \n",
    "    def wall_boundary(v_tent):\n",
    "        \n",
    "        for i in range(63, 143, 64):\n",
    "            #side walls\n",
    "            v_tent[-9:,i] = -  v_tent[-9:,i-1]\n",
    "            v_tent[-9:,i+14] = - v_tent[-9:,i+15]\n",
    "            \n",
    "            #top walls\n",
    "            v_tent[-10,i+1:i+14] = - v_tent[-11,i+1:i+14]\n",
    "            \n",
    "            \n",
    "            #interior\n",
    "            for j in range(-9,0):\n",
    "                v_tent[j,i+1:i+14] = 0\n",
    "    \n",
    "        return v_tent\n",
    "    \n",
    "    def velocity_boundary_x(u_tent):\n",
    "        \n",
    "        inflow_mass_rate_next = np.sum(u_tent[:, 0])\n",
    "        outflow_mass_rate_next = np.sum(u_tent[:, -2])\n",
    "        \n",
    "        u_tent[0, :] =  - u_tent[1, :] #top\n",
    "        u_tent[:, 0] = 5.0 #left\n",
    "        u_tent[:, -1] =  u_tent[:, -2] * inflow_mass_rate_next / outflow_mass_rate_next\n",
    "        u_tent[-1, :] = -  u_tent[-2, :]  \n",
    "        \n",
    "        u_tent = boundary_update.wall_boundary(u_tent)\n",
    "        \n",
    "        return u_tent\n",
    "        \n",
    "    def velocity_boundary_y(v_tent):\n",
    "      \n",
    "        \n",
    "        v_tent[0, :] =  0.0 \n",
    "        v_tent[:, 0] =  - v_tent[:, 1]\n",
    "        v_tent[:, -1] =  v_tent[:, -2] \n",
    "        v_tent[-1, :] =   0.0\n",
    "        \n",
    "        v_tent = boundary_update.wall_boundary(v_tent)\n",
    "        \n",
    "        \n",
    "        return v_tent\n",
    "    \n",
    "    def pressure_boundary(p_next):\n",
    "        p_next[:, -1] = - p_next[:, -2]\n",
    "        p_next[0,  :] = p_next[1,  :]\n",
    "        p_next[:,  0] = p_next[:,  1]\n",
    "        p_next[-1, :] =  p_next[-2, :]\n",
    "        \n",
    "        p_next = boundary_update.wall_boundary(p_next)\n",
    "        \n",
    "        return p_next\n",
    "    \n",
    "    def temperature_boundary(T_next):\n",
    "        \n",
    "        T_next[0, :] = 10 \n",
    "        T_next[:, 0] = 0\n",
    "        T_next[:, -1] = 0\n",
    "        T_next[-1, :] = 0\n",
    "        \n",
    "        \n",
    "        \n",
    "        return T_next\n",
    "        "
   ]
  },
  {
   "cell_type": "code",
   "execution_count": 7,
   "id": "5aa3e373",
   "metadata": {},
   "outputs": [
    {
     "data": {
      "text/plain": [
       "array([[1., 1., 1., ..., 1., 1., 1.],\n",
       "       [1., 1., 1., ..., 1., 1., 1.],\n",
       "       [1., 1., 1., ..., 1., 1., 1.],\n",
       "       ...,\n",
       "       [1., 1., 1., ..., 1., 1., 1.],\n",
       "       [1., 1., 1., ..., 1., 1., 1.],\n",
       "       [1., 1., 1., ..., 1., 1., 1.]])"
      ]
     },
     "execution_count": 7,
     "metadata": {},
     "output_type": "execute_result"
    }
   ],
   "source": [
    "u = np.ones([205,205])\n",
    "u"
   ]
  },
  {
   "cell_type": "code",
   "execution_count": 8,
   "id": "84708f18",
   "metadata": {},
   "outputs": [],
   "source": [
    "u = boundary_update.velocity_boundary_x(u)"
   ]
  },
  {
   "cell_type": "code",
   "execution_count": 9,
   "id": "a79d9d86",
   "metadata": {},
   "outputs": [
    {
     "data": {
      "image/png": "[encoded data removed]",
      "text/plain": [
       "<Figure size 1000x600 with 2 Axes>"
      ]
     },
     "metadata": {},
     "output_type": "display_data"
    }
   ],
   "source": [
    "plt.figure(figsize=(10,6))\n",
    "plt.imshow(u[190:,55:90], cmap = 'magma')\n",
    "plt.colorbar();"
   ]
  },
  {
   "cell_type": "code",
   "execution_count": null,
   "id": "089855b8",
   "metadata": {},
   "outputs": [],
   "source": []
  },
  {
   "cell_type": "code",
   "execution_count": null,
   "id": "cb7fa695",
   "metadata": {},
   "outputs": [],
   "source": []
  },
  {
   "cell_type": "code",
   "execution_count": null,
   "id": "c939eb2d",
   "metadata": {},
   "outputs": [],
   "source": []
  },
  {
   "cell_type": "code",
   "execution_count": null,
   "id": "5ba3213d",
   "metadata": {},
   "outputs": [],
   "source": []
  },
  {
   "cell_type": "markdown",
   "id": "ea26aa3d",
   "metadata": {},
   "source": [
    "def wall_boundary(v_tent):\n",
    "        \n",
    "        for i in range(63, 143, 32):\n",
    "            #side walls\n",
    "            v_tent[-4:,i] += 125\n",
    "            v_tent[-4:,i+3] += 125\n",
    "            \n",
    "            #top walls\n",
    "            v_tent[-5,i:i+4] +=125\n",
    "            \n",
    "            #exterior of side walls\n",
    "            v_tent[-4:,i-1] += 500\n",
    "            v_tent[-4:,i+4] += 500\n",
    "\n",
    "            #exterior of top  walls\n",
    "            v_tent[-6,i:i+4] += 500\n",
    "            \n",
    "            #interior\n",
    "            for j in range(-4,0):\n",
    "                v_tent[j,i+1:i+3] += 250\n",
    "    \n",
    "        return v_tent"
   ]
  },
  {
   "cell_type": "code",
   "execution_count": null,
   "id": "fe1c1108",
   "metadata": {},
   "outputs": [],
   "source": []
  },
  {
   "cell_type": "code",
   "execution_count": null,
   "id": "e88ff1da",
   "metadata": {},
   "outputs": [],
   "source": []
  },
  {
   "cell_type": "code",
   "execution_count": null,
   "id": "77b46562",
   "metadata": {},
   "outputs": [],
   "source": []
  },
  {
   "cell_type": "code",
   "execution_count": null,
   "id": "9d4941c6",
   "metadata": {},
   "outputs": [],
   "source": []
  },
  {
   "cell_type": "code",
   "execution_count": null,
   "id": "8321c1fa",
   "metadata": {},
   "outputs": [],
   "source": []
  }
 ],
 "metadata": {
  "kernelspec": {
   "display_name": "Python 3 (ipykernel)",
   "language": "python",
   "name": "python3"
  },
  "language_info": {
   "codemirror_mode": {
    "name": "ipython",
    "version": 3
   },
   "file_extension": ".py",
   "mimetype": "text/x-python",
   "name": "python",
   "nbconvert_exporter": "python",
   "pygments_lexer": "ipython3",
   "version": "3.9.12"
  }
 },
 "nbformat": 4,
 "nbformat_minor": 5
}
